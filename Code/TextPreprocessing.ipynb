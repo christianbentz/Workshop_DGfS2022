{
  "nbformat": 4,
  "nbformat_minor": 0,
  "metadata": {
    "colab": {
      "name": "TextPreprocessing.ipynb",
      "provenance": [],
      "toc_visible": true
    },
    "kernelspec": {
      "name": "ir",
      "display_name": "R"
    },
    "language_info": {
      "name": "R"
    }
  },
  "cells": [
    {
      "cell_type": "markdown",
      "source": [
        "\n",
        "# Title: Text Preprocessing\n",
        "\n",
        "# Author: Chris Bentz\n",
        "\n",
        "# Date: "
      ],
      "metadata": {
        "id": "7MYyOJIvmFc2"
      }
    },
    {
      "cell_type": "markdown",
      "source": [
        "# Install Libraries\n",
        "Some packages are already pre-installed on jupyter, but some need to be installed. Run this code to make sure that the packages/libraries needed to run this code are installed."
      ],
      "metadata": {
        "id": "mCsUnX6El8TH"
      }
    },
    {
      "cell_type": "code",
      "execution_count": null,
      "metadata": {
        "id": "OskEO_2qPWkT"
      },
      "outputs": [],
      "source": [
        "install.packages(\"gsubfn\")\n",
        "install.packages(\"readr\")"
      ]
    },
    {
      "cell_type": "markdown",
      "source": [
        "# Load Libraries\n",
        "If the respective libraries are not installed yet, you need to install them using, for example, the command: install.packages(\"ggplot2\")"
      ],
      "metadata": {
        "id": "u1y4bt3jl51g"
      }
    },
    {
      "cell_type": "code",
      "source": [
        "library(gsubfn)\n",
        "library(readr)"
      ],
      "metadata": {
        "colab": {
          "base_uri": "https://localhost:8080/"
        },
        "id": "7xrbBe-wPk0c",
        "outputId": "b6989a02-e2ba-40e9-ffda-c17b70b9e079"
      },
      "execution_count": null,
      "outputs": [
        {
          "output_type": "stream",
          "name": "stderr",
          "text": [
            "Loading required package: proto\n",
            "\n",
            "Warning message:\n",
            "“no DISPLAY variable so Tk is not available”\n"
          ]
        }
      ]
    },
    {
      "cell_type": "markdown",
      "source": [
        "# List Files\n",
        "Create list with all the files which are about to be processed. The path needs to point to the exact location (i.e. folder) where all the raw text files are stored."
      ],
      "metadata": {
        "id": "JQynSYfunwcq"
      }
    },
    {
      "cell_type": "code",
      "source": [
        "# file list for udhr and voynich texts\n",
        "file.list <- list.files(path = \"/content/original\", \n",
        "                        recursive = T, full.names = T)\n",
        "head(file.list)\n",
        "length(file.list)"
      ],
      "metadata": {
        "id": "wTYi6F4yQGKn"
      },
      "execution_count": null,
      "outputs": []
    },
    {
      "cell_type": "code",
      "source": [
        "# capture starting time\n",
        "start_time <- Sys.time()\n",
        "\n",
        "# set a counter \n",
        "counter <- 0\n",
        "\n",
        "# use for-loop to run through all files\n",
        "for (file in file.list) { \n",
        "  # loading textfile (\"skip\" specifies the number of lines to skip, whereas\n",
        "  # nmax gives the max number of lines to read.)\n",
        "  textfile <- scan(file, what = \"char\", quote = \"\", comment.char = \"\", \n",
        "                   encoding = \"UTF-8\", sep = \"\\n\" , skip = 8, nmax = 100) \n",
        "  # remove tabs, parentheses, and further symbols that cause processing issues\n",
        "  textfile <- gsubfn(\".\", list(\"\\t\" = \"\", \"(\" = \"\", \")\" = \"\", \"]\" = \"\",\n",
        "                              \"[\" = \"\", \"}\" = \"\",  \"{\" = \"\", \"*\" = \"\", \"+\" = \"\"), textfile)\n",
        "  # remove line annotations marked by '<>'\n",
        "  textfile <- gsub(\"<.*>\", \"\", textfile) \n",
        "  # get filename\n",
        "  filename <- basename(file)\n",
        "  print(filename)\n",
        "  # split the textfile into individual utf-8 characters. The output of strsplit() \n",
        "  # is a list, so it needs to be \"unlisted\"\" to get a vector. Note that white spaces are\n",
        "  # counted as utf-8 characters here.\n",
        "  chars <- unlist(strsplit(textfile, \"\"))\n",
        "  # remove white spaces from character vector\n",
        "  chars <- chars[chars != \" \"] \n",
        "  # remove NAs for vectors which are already shorter than n\n",
        "  chars <- chars[!is.na(chars)]\n",
        "  # print(head(chars)) \n",
        "  # write characters to file\n",
        "  output.file <- paste(\"/content/processed/\", filename, sep = \"\")\n",
        "  write_lines(chars, output.file, sep = \" \")\n",
        "  # counter\n",
        "  counter <- counter + 1\n",
        "  print(counter)\n",
        "}\n",
        "end_time <- Sys.time()\n",
        "end_time - start_time"
      ],
      "metadata": {
        "id": "0UKYonoUQGf_"
      },
      "execution_count": null,
      "outputs": []
    },
    {
      "cell_type": "markdown",
      "source": [
        ""
      ],
      "metadata": {
        "id": "r6QQhzb_QGtm"
      }
    }
  ]
}