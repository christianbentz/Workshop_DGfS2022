{
  "nbformat": 4,
  "nbformat_minor": 0,
  "metadata": {
    "colab": {
      "name": "TextPreprocessing.ipynb",
      "provenance": [],
      "toc_visible": true
    },
    "kernelspec": {
      "name": "ir",
      "display_name": "R"
    },
    "language_info": {
      "name": "R"
    }
  },
  "cells": [
    {
      "cell_type": "markdown",
      "source": [
        "\n",
        "# Title: Text Preprocessing\n",
        "\n",
        "# Author: Chris Bentz\n",
        "\n",
        "# Date: "
      ],
      "metadata": {
        "id": "7MYyOJIvmFc2"
      }
    },
    {
      "cell_type": "markdown",
      "source": [
        "# Install Libraries\n",
        "Some packages are already pre-installed on jupyter, but some need to be installed. Run this code to make sure that the packages/libraries needed to run this code are installed."
      ],
      "metadata": {
        "id": "mCsUnX6El8TH"
      }
    },
    {
      "cell_type": "code",
      "execution_count": 1,
      "metadata": {
        "colab": {
          "base_uri": "https://localhost:8080/"
        },
        "id": "OskEO_2qPWkT",
        "outputId": "c04fd62b-8a91-4e08-e211-fde99cd909a1"
      },
      "outputs": [
        {
          "output_type": "stream",
          "name": "stderr",
          "text": [
            "Installing package into ‘/usr/local/lib/R/site-library’\n",
            "(as ‘lib’ is unspecified)\n",
            "\n",
            "also installing the dependency ‘proto’\n",
            "\n",
            "\n",
            "Installing package into ‘/usr/local/lib/R/site-library’\n",
            "(as ‘lib’ is unspecified)\n",
            "\n"
          ]
        }
      ],
      "source": [
        "install.packages(\"gsubfn\")\n",
        "install.packages(\"readr\")"
      ]
    },
    {
      "cell_type": "markdown",
      "source": [
        "# Load Libraries\n",
        "If the respective libraries are not installed yet, you need to install them using, for example, the command: install.packages(\"ggplot2\")"
      ],
      "metadata": {
        "id": "u1y4bt3jl51g"
      }
    },
    {
      "cell_type": "code",
      "source": [
        "library(gsubfn)\n",
        "library(readr)"
      ],
      "metadata": {
        "colab": {
          "base_uri": "https://localhost:8080/"
        },
        "id": "7xrbBe-wPk0c",
        "outputId": "b6989a02-e2ba-40e9-ffda-c17b70b9e079"
      },
      "execution_count": 9,
      "outputs": [
        {
          "output_type": "stream",
          "name": "stderr",
          "text": [
            "Loading required package: proto\n",
            "\n",
            "Warning message:\n",
            "“no DISPLAY variable so Tk is not available”\n"
          ]
        }
      ]
    },
    {
      "cell_type": "markdown",
      "source": [
        "# List Files\n",
        "Create list with all the files which are about to be processed. The path needs to point to the exact location (i.e. folder) where all the raw text files are stored."
      ],
      "metadata": {
        "id": "JQynSYfunwcq"
      }
    },
    {
      "cell_type": "code",
      "source": [
        "# file list for udhr and voynich texts\n",
        "file.list <- list.files(path = \"/content/original\", \n",
        "                        recursive = T, full.names = T)\n",
        "head(file.list)\n",
        "length(file.list)"
      ],
      "metadata": {
        "colab": {
          "base_uri": "https://localhost:8080/",
          "height": 69
        },
        "id": "wTYi6F4yQGKn",
        "outputId": "6d6499ea-958e-4710-cce8-ceb69bcda590"
      },
      "execution_count": 7,
      "outputs": [
        {
          "output_type": "display_data",
          "data": {
            "text/plain": [
              "[1] \"/content/original/unclassified_voy_0001.txt\"\n",
              "[2] \"/content/original/writing_aii_0001.txt\"     \n",
              "[3] \"/content/original/writing_arb_0001.txt\"     \n",
              "[4] \"/content/original/writing_azj_0001.txt\"     \n",
              "[5] \"/content/original/writing_azj_0002.txt\"     \n",
              "[6] \"/content/original/writing_ben_0001.txt\"     "
            ],
            "text/latex": "\\begin{enumerate*}\n\\item '/content/original/unclassified\\_voy\\_0001.txt'\n\\item '/content/original/writing\\_aii\\_0001.txt'\n\\item '/content/original/writing\\_arb\\_0001.txt'\n\\item '/content/original/writing\\_azj\\_0001.txt'\n\\item '/content/original/writing\\_azj\\_0002.txt'\n\\item '/content/original/writing\\_ben\\_0001.txt'\n\\end{enumerate*}\n",
            "text/markdown": "1. '/content/original/unclassified_voy_0001.txt'\n2. '/content/original/writing_aii_0001.txt'\n3. '/content/original/writing_arb_0001.txt'\n4. '/content/original/writing_azj_0001.txt'\n5. '/content/original/writing_azj_0002.txt'\n6. '/content/original/writing_ben_0001.txt'\n\n\n",
            "text/html": [
              "<style>\n",
              ".list-inline {list-style: none; margin:0; padding: 0}\n",
              ".list-inline>li {display: inline-block}\n",
              ".list-inline>li:not(:last-child)::after {content: \"\\00b7\"; padding: 0 .5ex}\n",
              "</style>\n",
              "<ol class=list-inline><li>'/content/original/unclassified_voy_0001.txt'</li><li>'/content/original/writing_aii_0001.txt'</li><li>'/content/original/writing_arb_0001.txt'</li><li>'/content/original/writing_azj_0001.txt'</li><li>'/content/original/writing_azj_0002.txt'</li><li>'/content/original/writing_ben_0001.txt'</li></ol>\n"
            ]
          },
          "metadata": {}
        },
        {
          "output_type": "display_data",
          "data": {
            "text/plain": [
              "[1] 51"
            ],
            "text/latex": "51",
            "text/markdown": "51",
            "text/html": [
              "51"
            ]
          },
          "metadata": {}
        }
      ]
    },
    {
      "cell_type": "code",
      "source": [
        "# capture starting time\n",
        "start_time <- Sys.time()\n",
        "\n",
        "# set a counter \n",
        "counter <- 0\n",
        "\n",
        "# use for-loop to run through all files\n",
        "for (file in file.list) { \n",
        "  # loading textfile (\"skip\" specifies the number of lines to skip, whereas\n",
        "  # nmax gives the max number of lines to read.)\n",
        "  textfile <- scan(file, what = \"char\", quote = \"\", comment.char = \"\", \n",
        "                   encoding = \"UTF-8\", sep = \"\\n\" , skip = 8, nmax = 100) \n",
        "  # remove tabs, parentheses, and further symbols that cause processing issues\n",
        "  textfile <- gsubfn(\".\", list(\"\\t\" = \"\", \"(\" = \"\", \")\" = \"\", \"]\" = \"\",\n",
        "                              \"[\" = \"\", \"}\" = \"\",  \"{\" = \"\", \"*\" = \"\", \"+\" = \"\"), textfile)\n",
        "  # remove line annotations marked by '<>'\n",
        "  textfile <- gsub(\"<.*>\", \"\", textfile) \n",
        "  # get filename\n",
        "  filename <- basename(file)\n",
        "  print(filename)\n",
        "  # split the textfile into individual utf-8 characters. The output of strsplit() \n",
        "  # is a list, so it needs to be \"unlisted\"\" to get a vector. Note that white spaces are\n",
        "  # counted as utf-8 characters here.\n",
        "  chars <- unlist(strsplit(textfile, \"\"))\n",
        "  # remove white spaces from character vector\n",
        "  chars <- chars[chars != \" \"] \n",
        "  # remove NAs for vectors which are already shorter than n\n",
        "  chars <- chars[!is.na(chars)]\n",
        "  # print(head(chars)) \n",
        "  # write characters to file\n",
        "  output.file <- paste(\"/content/processed/\", filename, sep = \"\")\n",
        "  write_lines(chars, output.file, sep = \" \")\n",
        "  # counter\n",
        "  counter <- counter + 1\n",
        "  print(counter)\n",
        "}\n",
        "end_time <- Sys.time()\n",
        "end_time - start_time"
      ],
      "metadata": {
        "colab": {
          "base_uri": "https://localhost:8080/",
          "height": 1000
        },
        "id": "0UKYonoUQGf_",
        "outputId": "f2ed0a50-a3f7-40e0-a06c-647810bec081"
      },
      "execution_count": 11,
      "outputs": [
        {
          "output_type": "stream",
          "name": "stdout",
          "text": [
            "[1] \"unclassified_voy_0001.txt\"\n",
            "[1] \"f\" \"a\" \"c\" \"h\" \"y\" \"s\"\n",
            "[1] 1\n",
            "[1] \"writing_aii_0001.txt\"\n",
            "[1] \"ܥ\" \"ܘ\" \"ܬ\" \"ܕ\" \"ܐ\" \"ܡ\"\n",
            "[1] 2\n",
            "[1] \"writing_arb_0001.txt\"\n",
            "[1] \"ا\" \"ل\" \"د\" \"ي\" \"ب\" \"ا\"\n",
            "[1] 3\n",
            "[1] \"writing_azj_0001.txt\"\n",
            "[1] \"П\" \"Р\" \"Е\" \"А\" \"М\" \"Б\"\n",
            "[1] 4\n",
            "[1] \"writing_azj_0002.txt\"\n",
            "[1] \"P\" \"R\" \"E\" \"A\" \"M\" \"B\"\n",
            "[1] 5\n",
            "[1] \"writing_ben_0001.txt\"\n",
            "[1] \"ম\" \"ু\"  \"খ\" \"ব\" \"ন\" \"্\" \n",
            "[1] 6\n",
            "[1] \"writing_blt_0001.txt\"\n",
            "[1] \"ꪹ\" \"ꪜ\" \"ꪸ\"  \"ꪙ\" \"ꪭ\" \"ꪴ\" \n",
            "[1] 7\n",
            "[1] \"writing_bod_0001.txt\"\n",
            "[1] \"ས\" \"ྔ\"  \"ོ\"  \"ན\" \"་\" \"བ\"\n",
            "[1] 8\n",
            "[1] \"writing_bos_0001.txt\"\n",
            "[1] \"У\" \"В\" \"О\" \"Д\" \"Б\" \"У\"\n",
            "[1] 9\n",
            "[1] \"writing_bos_0002.txt\"\n",
            "[1] \"U\" \"V\" \"O\" \"D\" \"B\" \"U\"\n",
            "[1] 10\n",
            "[1] \"writing_chr_0001.txt\"\n",
            "[1] \"Ꭼ\" \"ꮒ\" \"ᏻ\" \"ꮙ\" \"Ꭷ\" \"ꮓ\"\n",
            "[1] 11\n",
            "[1] \"writing_cmn_0001.txt\"\n",
            "[1] \"序\" \"言\" \"鉴\" \"于\" \"对\" \"人\"\n",
            "[1] 12\n",
            "[1] \"writing_cmn_0002.txt\"\n",
            "[1] \"序\" \"言\" \"鑑\" \"於\" \"對\" \"人\"\n",
            "[1] 13\n",
            "[1] \"writing_csw_0001.txt\"\n",
            "[1] \"ᓂ\" \"ᑲ\" \"ᓂ\" \"ᐃ\" \"ᑗ\" \"ᐎ\"\n",
            "[1] 14\n",
            "[1] \"writing_div_0001.txt\"\n",
            "[1] \"ދ\" \"ީ\"  \"ބ\" \"ާ\"  \"ޖ\" \"ާ\" \n",
            "[1] 15\n",
            "[1] \"writing_ell_0001.txt\"\n",
            "[1] \"Π\" \"Ρ\" \"Ο\" \"Ο\" \"Ι\" \"Μ\"\n",
            "[1] 16\n",
            "[1] \"writing_eng_0001.txt\"\n",
            "[1] \"P\" \"r\" \"e\" \"a\" \"m\" \"b\"\n",
            "[1] 17\n",
            "[1] \"writing_epo_0001.txt\"\n",
            "[1] \"A\" \"n\" \"t\" \"a\" \"ŭ\" \"k\"\n",
            "[1] 18\n",
            "[1] \"writing_eus_0001.txt\"\n",
            "[1] \"G\" \"I\" \"Z\" \"A\" \"E\" \"S\"\n",
            "[1] 19\n",
            "[1] \"writing_gaz_0001.txt\"\n",
            "[1] \"S\" \"E\" \"E\" \"N\" \"S\" \"A\"\n",
            "[1] 20\n",
            "[1] \"writing_guj_0001.txt\"\n",
            "[1] \"પ\" \"્\"  \"ર\" \"ા\" \"ર\" \"ુ\" \n",
            "[1] 21\n",
            "[1] \"writing_heb_0001.txt\"\n",
            "[1] \"ה\" \"ק\" \"ד\" \"מ\" \"ה\" \"ה\"\n",
            "[1] 22\n",
            "[1] \"writing_hin_0001.txt\"\n",
            "[1] \"प\" \"्\"  \"र\" \"स\" \"्\"  \"त\"\n",
            "[1] 23\n",
            "[1] \"writing_hye_0001.txt\"\n",
            "[1] \"Ն\" \"Ե\" \"Ր\" \"Ա\" \"Ծ\" \"Ա\"\n",
            "[1] 24\n",
            "[1] \"writing_ibb_0001.txt\"\n",
            "[1] \"A\" \"K\" \"W\" \"A\" \"E\" \"W\"\n",
            "[1] 25\n",
            "[1] \"writing_iii_0001.txt\"\n",
            "[1] \"ꌐ\" \"ꁌ\" \"ꅇ\" \"ꃰ\" \"ꊿ\" \"ꑱ\"\n",
            "[1] 26\n",
            "[1] \"writing_ike_0001.txt\"\n",
            "[1] \"ᓯ\" \"ᕗ\" \"ᓪ\" \"ᓕ\" \"ᖅ\" \"ᓇ\"\n",
            "[1] 27\n",
            "[1] \"writing_jav_0001.txt\"\n",
            "[1] \"ꦥ\" \"ꦩ\" \"꧀\" \"ꦧ\" \"ꦸ\"  \"ꦏ\"\n",
            "[1] 28\n",
            "[1] \"writing_jav_0002.txt\"\n",
            "[1] \"P\" \"A\" \"M\" \"B\" \"U\" \"K\"\n",
            "[1] 29\n",
            "[1] \"writing_jpn_0001.txt\"\n",
            "[1] \"前\" \"文\" \"人\" \"類\" \"社\" \"会\"\n",
            "[1] 30\n",
            "[1] \"writing_kal_0001.txt\"\n",
            "[1] \"A\" \"A\" \"L\" \"L\" \"A\" \"Q\"\n",
            "[1] 31\n",
            "[1] \"writing_kan_0001.txt\"\n",
            "[1] \"ಮ\" \"ಾ\" \"ನ\" \"ವ\" \"ಬ\" \"ಾ\"\n",
            "[1] 32\n",
            "[1] \"writing_kat_0001.txt\"\n",
            "[1] \"პ\" \"რ\" \"ე\" \"ა\" \"მ\" \"ბ\"\n",
            "[1] 33\n",
            "[1] \"writing_khm_0001.txt\"\n",
            "[1] \"ប\" \"ុ\"  \"ព\" \"្\"  \"វ\" \"ក\"\n",
            "[1] 34\n",
            "[1] \"writing_kkh_0001.txt\"\n",
            "[1] \"ᨣ\" \"ᩴ\"  \"ᩣ\" \"ᨷ\" \"ᩕ\" \"ᩣ\"\n",
            "[1] 35\n",
            "[1] \"writing_kor_0001.txt\"\n",
            "[1] \"전\" \"문\" \"모\" \"든\" \"인\" \"류\"\n",
            "[1] 36\n",
            "[1] \"writing_lao_0001.txt\"\n",
            "[1] \"ບ\" \"ົ\"  \"ດ\" \"ນ\" \"ຳ\" \"ດ\"\n",
            "[1] 37\n",
            "[1] \"writing_lug_0001.txt\"\n",
            "[1] \"E\" \"B\" \"Y\" \"A\" \"N\" \"J\"\n",
            "[1] 38\n",
            "[1] \"writing_mal_0001.txt\"\n",
            "[1] \"പ\" \"ീ\" \"ഠ\" \"ി\" \"ക\" \"മ\"\n",
            "[1] 39\n",
            "[1] \"writing_mya_0001.txt\"\n",
            "[1] \"စ\" \"က\" \"ာ\" \"း\" \"ခ\" \"ျ\"\n",
            "[1] 40\n",
            "[1] \"writing_pan_0001.txt\"\n",
            "[1] \"ਮ\" \"ੁ\"  \"ੱ\"  \"ਖ\" \"ਬ\" \"ੰ\" \n",
            "[1] 41\n",
            "[1] \"writing_rus_0001.txt\"\n",
            "[1] \"П\" \"Р\" \"Е\" \"А\" \"М\" \"Б\"\n",
            "[1] 42\n",
            "[1] \"writing_sin_0001.txt\"\n",
            "[1] \"ප\" \"ු\"  \"ර\" \"්\"  \"ව\" \"ි\" \n",
            "[1] 43\n",
            "[1] \"writing_tam_0001.txt\"\n",
            "[1] \"ம\" \"ன\" \"ி\" \"த\" \"க\" \"்\" \n",
            "[1] 44\n",
            "[1] \"writing_tel_0001.txt\"\n",
            "[1] \"ప\" \"్\"  \"ర\" \"స\" \"్\"  \"త\"\n",
            "[1] 45\n",
            "[1] \"writing_tgl_0001.txt\"\n",
            "[1] \"P\" \"A\" \"N\" \"I\" \"M\" \"U\"\n",
            "[1] 46\n",
            "[1] \"writing_tha_0001.txt\"\n",
            "[1] \"ค\" \"ำ\" \"ป\" \"ร\" \"า\" \"ร\"\n",
            "[1] 47\n",
            "[1] \"writing_tir_0001.txt\"\n",
            "[1] \"መ\" \"እ\" \"ተ\" \"ዊ\" \"ኦ\" \"ብ\"\n",
            "[1] 48\n",
            "[1] \"writing_vai_0001.txt\"\n",
            "[1] \"ꔖ\" \"ꔜ\" \"ꖏ\" \"ꕎ\" \"ꔀ\" \"ꖴ\"\n",
            "[1] 49\n",
            "[1] \"writing_zgh_0001.txt\"\n",
            "[1] \"ⵜ\" \"ⴰ\" \"ⵣ\" \"ⵡ\" \"ⴰ\" \"ⵔ\"\n",
            "[1] 50\n",
            "[1] \"writing_zul_0001.txt\"\n",
            "[1] \"I\" \"s\" \"a\" \"n\" \"d\" \"u\"\n",
            "[1] 51\n"
          ]
        },
        {
          "output_type": "display_data",
          "data": {
            "text/plain": [
              "Time difference of 18.66021 secs"
            ]
          },
          "metadata": {}
        }
      ]
    },
    {
      "cell_type": "markdown",
      "source": [
        ""
      ],
      "metadata": {
        "id": "r6QQhzb_QGtm"
      }
    }
  ]
}
