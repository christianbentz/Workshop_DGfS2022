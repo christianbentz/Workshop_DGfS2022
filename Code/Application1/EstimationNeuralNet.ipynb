{
  "nbformat": 4,
  "nbformat_minor": 0,
  "metadata": {
    "colab": {
      "name": "EstimationNeuralNet.ipynb",
      "provenance": []
    },
    "kernelspec": {
      "name": "python3",
      "display_name": "Python 3"
    },
    "language_info": {
      "name": "python"
    }
  },
  "cells": [
    {
      "cell_type": "markdown",
      "source": [
        "## Entropy rate using a neural language model"
      ],
      "metadata": {
        "id": "AXzhbykylOgx"
      }
    },
    {
      "cell_type": "markdown",
      "source": [
        "The libraries we are going to use:"
      ],
      "metadata": {
        "id": "sOsfmf6kCfo7"
      }
    },
    {
      "cell_type": "code",
      "execution_count": 280,
      "metadata": {
        "id": "FuPM5zVMCIDG"
      },
      "outputs": [],
      "source": [
        "import torch         #For Neural Networks\n",
        "import torch.nn as nn  #For Neural Networks\n",
        "import numpy as np     \n",
        "from nltk import ngrams   #Extracting ngrams from any string\n",
        "import os #Reading file directories and other options\n",
        "from tqdm import tqdm #Progress bar\n",
        "import csv  #for writing output in csv"
      ]
    },
    {
      "cell_type": "markdown",
      "source": [
        "We define functions that we are going to need later:"
      ],
      "metadata": {
        "id": "LNlVYn7rCftg"
      }
    },
    {
      "cell_type": "code",
      "source": [
        "#Function to obtain character ngrams from a text:\n",
        "def get_char_ngrams(text, n):\n",
        "  ngrams_list=[]\n",
        " \n",
        "  for ngram in ngrams(text, n):\n",
        "      ngram_string=\"\".join(ngram) \n",
        "      ngrams_list.append(ngram_string)\n",
        "  return(ngrams_list)  #Returns a list of the char ngrams contained in the input text\n",
        "\n",
        "#Function to convert the input text (already converted to char ngrams) to index numbers:\n",
        "def text2number(char_ngrams):\n",
        "  index=0\n",
        "  indexed_line=[]\n",
        "  vocabulary={}\n",
        "  for t in char_ngrams: #for each ngram in the list\n",
        "    if not(t in vocabulary): #If we didn't indexed it already\n",
        "      vocabulary[t]=index\n",
        "      #print(w, index)\n",
        "      index=index+1\n",
        "         \n",
        "    indexed_line.append(vocabulary[t])\n",
        "\n",
        "  return (vocabulary, indexed_line)  #Returns a dictionary of the index values, and the text (already converted to char ngrams) converted to numeric indexes "
      ],
      "metadata": {
        "id": "MH06ZNsqCwoc"
      },
      "execution_count": 281,
      "outputs": []
    },
    {
      "cell_type": "markdown",
      "source": [
        "**Toy example**\n",
        "First let see how to preprocess the text in order to prepare the input for the neural network."
      ],
      "metadata": {
        "id": "ijCmHKyE56c_"
      }
    },
    {
      "cell_type": "markdown",
      "source": [
        "1. First we get char trigrams:"
      ],
      "metadata": {
        "id": "uOlq3B4B81Vk"
      }
    },
    {
      "cell_type": "code",
      "source": [
        "toycorpus = ' E v e r y o n e h a s t h e r i g h t t o e d u c a t i o n . E d u c a t i o n s h a l l b e f r e e , a t l e a s t i n t h e e l e m e n t a r y a n d f u n d a m e n t a l s t a g e s . E l e m e n t a r y e d u c a t i o n s h a l l b e c o m p u l s o r y . T e c h n i c a l a n d p r o f e s s i o n a l e d u c a t i o n s h a l l b e m a d e g e n e r a l l y a v a i l a b l e a n d h i g h e r e d u c a t i o n s h a l l b e e q u a l l y a c c e s s i b l e t o a l l o n t h e b a s i s o f m e r i t . 2 . E d u c a t i o n s h a l l b e d i r e c t e d t o t h e f u l l d e v e l o p m e n t o f t h e h u m a n p e r s o n a l i t y a n d t o t h e s t r e n g t h e n i n g o f r e s p e c t f o r h u m a n r i g h t s a n d f u n d a m e n t a l f r e e d o m s . I t s h a l l p r o m o t e u n d e r s t a n d i n g , t o l e r a n c e a n d f r i e n d s h i p a m o n g a l l n a t i o n s , r a c i a l o r r e l i g i o u s g r o u p s , a n d s h a l l f u r t h e r t h e a c t i v i t i e s o f t h e U n i t e d N a t i o n s f o r t h e m a i n t e n a n c e o f p e a c e . 3 . P a r e n t s h a v e a p r i o r r i g h t t o c h o o s e t h e k i n d o f e d u c a t i o n t h a t s h a l l b e g i v e n t o t h e i r c h i l d r e n . A r t i c l e 2 7 1 . E v e r y o n e h a s t h e r i g h t f r e e l y t o p a r t i c i p a t e i n t h e c u l t u r a l l i f e o f t h e c o m m u n i t y , t o e n j o y t h e a r t s a n d t o s h a r e i n s c i e n t i f i c a d v a n c e m e n t a n d i t s b e n e f i t s . 2 . E v e r y o n e h a s t h e r i g h t t o t h e p r o t e c t i o n o f t h e m o r a l a n d m a t e r i a l i n t e r e s t s r e s u l t i n g f r o m a n y s c i e n t i f i c , l i t e r a r y o r a r t i s t i c p r o d u c t i o n o f w h i c h h e i s t h e a u t h o r . A r t i c l e 2 8 E v e r y o n e i s e n t i t l e d t o a s o c i a l a n d i n t e r n a t i o n a l o r d e r i n w h i c h t h e r i g h t s a n d f r e e d o m s s e t f o r t h i n t h i s D e c l a r a t i o n c a n b e f u l l y r e a l i z e d . A r t i c l e 2 9 1 . E v e r y o n e h a s d u t i e s t o t h e c o m m u n i t y i n w h i c h a l o n e t h e f r e e a n d f u l l d e v e l o p m e n t o f h i s p e r s o n a l i t y i s p o s s i b l e . 2 . I n t h e e x e r c i s e o f h i s r i g h t s a n d f r e e d o m s , e v e r y o n e s h a l l b e s u b j e c t o n l y t o s u c h l i m i t a t i o n s a s a r e d e t e r m i n e d b y l a w s o l e l y f o r t h e p u r p o s e o f s e c u r i n g d u e r e c o g n i t i o n a n d r e s p e c t f o r t h e r i g h t s a n d f r e e d o m s o f o t h e r s a n d o f m e e t i n g t h e j u s t r e q u i r e m e n t s o f m o r a l i t y , p u b l i c o r d e r a n d t h e g e n e r a l w e l f a r e i n a d e m o c r a t i c s o c i e t y . 3 . T h e s e r i g h t s a n d f r e e d o m s m a y i n n o c a s e b e e x e r c i s e d c o n t r a r y t o t h e p u r p o s e s a n d p r i n c i p l e s o f t h e U n i t e d N a t i o n s . A r t i c l e 3 0 N o t h i n g i n t h i s D e c l a r a t i o n m a y b e i n t e r p r e t e d a s i m p l y i n g f o r a n y S t a t e , g r o u p o r p e r s o n a n y r i g h t n g a g e i n a n y a c t i v i t y o r t o p e r f o r m a n y a c t a i m e d a t t h e d e s t r u c t i o n o f a n y o f t h e r i g h t s a n d f r e e d o m s s e t f o r t h h e r e i n'\n",
        "text=toycorpus.lower().replace(\" \", \"\")  #We lowercase and remove spaces\n",
        "char_trigrams=get_char_ngrams(text,3)   #We obtain trigrams of characters\n",
        "print(char_trigrams)"
      ],
      "metadata": {
        "id": "RJLvanuy6aVn"
      },
      "execution_count": null,
      "outputs": []
    },
    {
      "cell_type": "markdown",
      "source": [
        "2. We represent the text (already converted to trigrams) as numeric indexes. This way the neural network will be able to process it."
      ],
      "metadata": {
        "id": "w0HhUnzO86VY"
      }
    },
    {
      "cell_type": "code",
      "source": [
        "out=text2number(char_trigrams) #it returns 2 objects, the dictionary with indexes, and the converted text\n",
        "idx=out[0]  #the dictionary with indexes\n",
        "indexed_corpus=out[1] #the converted text\n",
        "print(idx)\n",
        "print(indexed_corpus)"
      ],
      "metadata": {
        "id": "_9M3aAPo8y3v"
      },
      "execution_count": null,
      "outputs": []
    },
    {
      "cell_type": "markdown",
      "source": [
        "3. Once we have lists of numeric indexes representing the char ngrams in words, we'll just format them as training pairs (x,y) for the neural network. \n",
        "\n",
        "These training pairs are used by the neural network to model p(wj|wi), i.e., the probability of a char trigram given another char trigram in that language. "
      ],
      "metadata": {
        "id": "b5au_QBH-CYS"
      }
    },
    {
      "cell_type": "code",
      "source": [
        "training_bigrams = list(ngrams(indexed_corpus, 2))  #We extract bigrams of char trigrams to form training pairs: (x,y)\n",
        "print(\"Training_bigrams per word:\")\n",
        "print(training_bigrams)\n",
        "\n",
        "print(\"We make two lists, one with all x values, another one with Y values. These will enter to the NN:\")\n",
        "print(list(zip(*training_bigrams)))"
      ],
      "metadata": {
        "id": "iSLNOUt0BKh4"
      },
      "execution_count": null,
      "outputs": []
    },
    {
      "cell_type": "markdown",
      "source": [
        "**4. Training the Neural Network**"
      ],
      "metadata": {
        "id": "MfIQc7-lNqhf"
      }
    },
    {
      "cell_type": "code",
      "source": [
        "#We split the training pairs in two different lists (x and y), and we convert them to tensor data format. This is required by Pytorch:\n",
        "x,y = torch.tensor(list(zip(*training_bigrams)), dtype=torch.long)\n",
        "print(x,y)"
      ],
      "metadata": {
        "id": "CK0VmUcpC65P"
      },
      "execution_count": null,
      "outputs": []
    },
    {
      "cell_type": "markdown",
      "source": [
        "We are training a feed forward NN. This is a basic Language Model similar to [Bengio](https://www.google.com/url?sa=t&rct=j&q=&esrc=s&source=web&cd=&cad=rja&uact=8&ved=2ahUKEwimodrloY_2AhVJg_0HHRR3CjQQFnoECAQQAQ&url=https%3A%2F%2Fwww.jmlr.org%2Fpapers%2Fvolume3%2Fbengio03a%2Fbengio03a.pdf&usg=AOvVaw2dCMUIX1hAAcN67hkNtSQ0) (2003) \n",
        "\n",
        "![network.png](data:image/png;base64,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)"
      ],
      "metadata": {
        "id": "uJO3aOO6GWRX"
      }
    },
    {
      "cell_type": "code",
      "source": [
        "#Neural Netowrk Parameters\n",
        "dim_in = len(idx)  #The dimension of the input layer (the size of the vocabulary)\n",
        "dim = 300     #The dimension of the embedding layer\n",
        "dim_h = 100  #The dimension of the hidden layer\n",
        "dim_out = len(idx)  #The dimension of the output layer (the size of the vocabulary)\n",
        "\n",
        "#We define the architecture of the Neural Network (feed forward) layer by layer:\n",
        "#The final layer (output) is a softmax from which we will retrieve the probabilities we are looking for (once is trained):\n",
        "forward = nn.Sequential(nn.Embedding(dim_in,dim), nn.Linear(dim,dim_h), nn.Tanh(), nn.Linear(dim_h,dim_out), nn.Softmax(1))\n",
        "\n",
        "#We can see the process as  matrices multiplication:\n",
        "\n",
        "#|V|x300  300x200  200x|V|\n",
        "\n",
        "\n",
        "#We define a loss function for the training:\n",
        "criterion = torch.nn.CrossEntropyLoss()\n",
        "\n",
        "#Choosing the optimization algorithm (Stochastic gradient descent) and the learning rate\n",
        "optimizer = torch.optim.SGD(forward.parameters(), lr=0.1)\n",
        "\n",
        "#Number of iterations\n",
        "its = 11\n",
        "\n",
        "#We train the model\n",
        "for epoch in tqdm(range(its)):\n",
        "  for x,y in training_bigrams:\n",
        "      #FORWARD\n",
        "    x_in=torch.tensor([x], dtype=torch.long)\n",
        "    y_pred = forward(x_in)\n",
        "\n",
        "     #BACKWARD\n",
        "    #Error calculation\n",
        "    y_targ=torch.tensor([y], dtype=torch.long)\n",
        "    loss = criterion(target=y_targ, input=y_pred)\n",
        "    #zero grad\n",
        "    optimizer.zero_grad()\n",
        "    #Backprop\n",
        "    loss.backward()\n",
        "    #We update the values\n",
        "    optimizer.step()"
      ],
      "metadata": {
        "id": "2IwOoB6PEZNn",
        "colab": {
          "base_uri": "https://localhost:8080/"
        },
        "outputId": "07203f8e-a800-4ce3-b7e5-5afbbbf31abe"
      },
      "execution_count": 286,
      "outputs": [
        {
          "output_type": "stream",
          "name": "stderr",
          "text": [
            "100%|██████████| 11/11 [00:20<00:00,  1.83s/it]\n"
          ]
        }
      ]
    },
    {
      "cell_type": "markdown",
      "source": [
        "Once is trained we extract the values from the output layer and we construct our stochastic matrix:\n",
        "- For each element of the vocabulary we will have one vector with probabilities that represent p(wj|wi)\n",
        "\n",
        "For instance, let see the vector of probabilities associated to some trigram of our vocabulary:\n",
        "\n",
        "*Extra: Try with other trigrams. How do the probabilities distributions look like?"
      ],
      "metadata": {
        "id": "-3-OOyCyjitz"
      }
    },
    {
      "cell_type": "code",
      "source": [
        "id=idx['the']\n",
        "forward(torch.tensor([id])).detach()  #detach() removes some of the default format of Pytorch that we don't need anymore"
      ],
      "metadata": {
        "id": "znO7K738Jm8R"
      },
      "execution_count": null,
      "outputs": []
    },
    {
      "cell_type": "markdown",
      "source": [
        "The sum of the values of each vector should always be 1 (it's a probability distribution):"
      ],
      "metadata": {
        "id": "1kUXEElfMLi1"
      }
    },
    {
      "cell_type": "code",
      "source": [
        "probs=forward(torch.tensor([id])).detach()\n",
        "probs.sum(1) # 1 indicates the axis of the tensor in which we are adding the values"
      ],
      "metadata": {
        "id": "pJc6y1q1Mev5"
      },
      "execution_count": null,
      "outputs": []
    },
    {
      "cell_type": "markdown",
      "source": [
        "Now let's see which are the most probable tokens given certain char trigram:"
      ],
      "metadata": {
        "id": "8YbazVXFR8yN"
      }
    },
    {
      "cell_type": "code",
      "source": [
        "id=idx['the']\n",
        "probs=forward(torch.tensor([id])).detach()[0]  #detach() and [0] removes some of the default format of Pytorch that we don't need anymore\n",
        "\n",
        "pairs={}\n",
        "for ngram in idx.keys():  #for each char trigram in the vocabulary\n",
        "  \n",
        "  pairs[ngram]=float(probs[idx[ngram]])  #Store in a dictionary (ngram, probability)\n",
        "\n",
        "[(k, v) for k, v in sorted(pairs.items(), key=lambda x: x[1], reverse=True)]  #print the sorted list \n"
      ],
      "metadata": {
        "id": "_7ScI97iNEIg"
      },
      "execution_count": null,
      "outputs": []
    },
    {
      "cell_type": "markdown",
      "source": [
        "We can construct a stochastic matrix with all these vectors, an calculate the entropy rate of the corpus:"
      ],
      "metadata": {
        "id": "pLVl3U_GTPs3"
      }
    },
    {
      "cell_type": "code",
      "source": [
        "total_index_vocabulary = torch.tensor(list(idx.values()))  #The indexes of all elememnts in the vocabulary\n",
        "stochastic_matrix = forward(total_index_vocabulary).detach()  #The stochastic matrix will contain all the vectors\n",
        "\n",
        "mu = (1/len(idx))*stochastic_matrix.sum(1)\n",
        "entropy_rate = -(mu*(stochastic_matrix*np.log2(stochastic_matrix)).sum(1)).sum(0)\n",
        " \n",
        "print('Entropy rate:', entropy_rate)"
      ],
      "metadata": {
        "id": "MjC3fXwKjeOF"
      },
      "execution_count": null,
      "outputs": []
    },
    {
      "cell_type": "markdown",
      "source": [
        "##Training on all the corpus files"
      ],
      "metadata": {
        "id": "xDL-XlmxlWip"
      }
    },
    {
      "cell_type": "code",
      "source": [
        "directory=\"/content/processed/\" #Data source (change it to your Data location)\n",
        "all_files=[f for f in os.listdir(directory) if not f.startswith('.')] #listing all files in a directory (hidden files excluded)\n",
        "\n",
        "f = open('/content/entropyRate(trigrams).csv', 'w') #Output CSV (change it to your Data location)\n",
        "writer = csv.writer(f)  # create the csv writer\n",
        "csvheader = ['filename', 'Hrate.trigrams']  #The header of your file\n",
        "writer.writerow(csvheader)\n",
        "size_char_ngrams=3\n",
        "\n",
        "################################################################################\n",
        "\n",
        "for n in all_files:\n",
        "  print('Corpus:', n)\n",
        "  inputcorpus=directory+n\n",
        "  file=open(inputcorpus,'r', encoding=\"utf-8\")\n",
        "  text=file.read().lower().replace(\" \", \"\")  #We lowercase and remove spaces\n",
        "  char_ngrams=get_char_ngrams(text,size_char_ngrams)\n",
        "\n",
        "  out=text2number(char_ngrams) #it returns 2 objects, the dictionary with indexes, and the converted text\n",
        "  idx=out[0]  #the dictionary with indexes\n",
        "  indexed_corpus=out[1] #the converted text\n",
        "\n",
        "  training_bigrams = list(ngrams(indexed_corpus, 2))\n",
        "\n",
        "  \n",
        "  x,y = torch.tensor(list(zip(*training_bigrams)), dtype=torch.long)\n",
        "\n",
        "  #Neural Network Specifications\n",
        "  dim_in = len(idx)  #The dimension of the input layer (the size of the vocabulary)\n",
        "  dim = 300     #The dimension of the embedding layer\n",
        "  dim_h = 100  #The dimension of the hidden layer\n",
        "  dim_out = len(idx)  #The dimension of the output layer (the size of the vocabulary)\n",
        "\n",
        "  #We define the architecture of the Neural Network (feed forward) layer by layer:\n",
        "  #The final layer (output) is a softmax from which we will retrieve the probabilities we are looking for (once is trained):\n",
        "  forward = nn.Sequential(nn.Embedding(dim_in,dim), nn.Linear(dim,dim_h), nn.Tanh(), nn.Linear(dim_h,dim_out), nn.Softmax(1)) \n",
        "\n",
        "\n",
        "  #We define a loss function for the training:\n",
        "  criterion = torch.nn.CrossEntropyLoss()\n",
        "\n",
        "  #Choosing the optimization algorithm (Stochastic gradient descent) and the learning rate\n",
        "  optimizer = torch.optim.SGD(forward.parameters(), lr=0.1)\n",
        "\n",
        "  #Number of iterations\n",
        "  its = 35\n",
        "\n",
        "  #We train the model\n",
        "  for epoch in tqdm(range(its)):\n",
        "    for x,y in training_bigrams:\n",
        "        #FORWARD\n",
        "      x_in=torch.tensor([x], dtype=torch.long)\n",
        "      y_pred = forward(x_in)\n",
        "\n",
        "      #BACKWARD\n",
        "      #Error calculation\n",
        "      y_targ=torch.tensor([y], dtype=torch.long)\n",
        "      loss = criterion(target=y_targ, input=y_pred)\n",
        "      #zero grad\n",
        "      optimizer.zero_grad()\n",
        "      #Backprop\n",
        "      loss.backward()\n",
        "      #We update the values\n",
        "      optimizer.step()\n",
        "\n",
        "#Calculation of entropy rate:\n",
        "  total_index_vocabulary = torch.tensor(list(idx.values()))  #The indexes of all elememnts in the vocabulary\n",
        "  stochastic_matrix = forward(total_index_vocabulary).detach()  #The stochastic matrix will contain all the vectors\n",
        "\n",
        "  mu = (1/len(idx))*stochastic_matrix.sum(1)\n",
        "  entropy_rate = -(mu*(stochastic_matrix*np.log2(stochastic_matrix)).sum(1)).sum(0)\n",
        "\n",
        "  \n",
        "  print('Entropy rate:', float(entropy_rate))\n",
        "\n",
        "  csvrow = [n, float(entropy_rate)]\n",
        "  writer.writerow(csvrow)\n",
        " \n",
        "  \n",
        "f.close() # close the CSV file"
      ],
      "metadata": {
        "id": "HwQg0UkMlb6B"
      },
      "execution_count": null,
      "outputs": []
    }
  ]
}