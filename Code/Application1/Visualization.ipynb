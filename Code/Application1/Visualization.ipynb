{
  "nbformat": 4,
  "nbformat_minor": 0,
  "metadata": {
    "colab": {
      "name": "Visualization.ipynb",
      "provenance": [],
      "authorship_tag": "ABX9TyOdvXYZy9eYSmNmyDIebbDq",
      "include_colab_link": true
    },
    "kernelspec": {
      "name": "ir",
      "display_name": "R"
    },
    "language_info": {
      "name": "R"
    }
  },
  "cells": [
    {
      "cell_type": "markdown",
      "metadata": {
        "id": "view-in-github",
        "colab_type": "text"
      },
      "source": [
        "<a href=\"https://colab.research.google.com/github/christianbentz/Workshop_DGfS2022/blob/main/Code/Application1/Visualization.ipynb\" target=\"_parent\"><img src=\"https://colab.research.google.com/assets/colab-badge.svg\" alt=\"Open In Colab\"/></a>"
      ]
    },
    {
      "cell_type": "markdown",
      "source": [
        "# Visualization of Entropies\n",
        "Author: Chris Bentz\n",
        "\n",
        "Date: 18/02/2022\n",
        "\n"
      ],
      "metadata": {
        "id": "8e4ugAdV8hiT"
      }
    },
    {
      "cell_type": "markdown",
      "source": [
        "# Install Libraries\n",
        "Some packages are already pre-installed on jupyter, but some need to be installed. Run this code to make sure that the packages/libraries needed to run this code are installed."
      ],
      "metadata": {
        "id": "xM8gWiTk8qb5"
      }
    },
    {
      "cell_type": "code",
      "source": [
        "install.packages(\"ggplot2\")\n",
        "install.packages(\"ggrepel\")"
      ],
      "metadata": {
        "id": "6liRfFfM8y4u"
      },
      "execution_count": null,
      "outputs": []
    },
    {
      "cell_type": "markdown",
      "source": [
        "# Load Libraries\n",
        "\n",
        "If the libraries are not installed yet, you need to install them using, for example, the command: install.packages(\"ggplot2\")."
      ],
      "metadata": {
        "id": "KoEF1OoW8wgY"
      }
    },
    {
      "cell_type": "code",
      "source": [
        "library(ggplot2)\n",
        "library(ggrepel)\n",
        "library(dplyr)"
      ],
      "metadata": {
        "id": "_gUdijvx80_y"
      },
      "execution_count": null,
      "outputs": []
    },
    {
      "cell_type": "markdown",
      "source": [
        "# Load Data\n",
        "Load unigram, bigram and trigram estimations, as well as the neural net estimations."
      ],
      "metadata": {
        "id": "oAF7bz_T9Mp4"
      }
    },
    {
      "cell_type": "code",
      "source": [
        "# ML estimations \n",
        "h.est <- read.csv(file = \"/content/results/entropy_ML.csv\")\n",
        "head(h.est)\n",
        "# Neural net estimations\n",
        "h.neural.est <- read.csv(file = \"/content/results/entropy_NeuralNet.csv\")\n",
        "head(h.neural.est)"
      ],
      "metadata": {
        "id": "920OJbO19VH_"
      },
      "execution_count": null,
      "outputs": []
    },
    {
      "cell_type": "markdown",
      "source": [
        "## Merge Data\n",
        "Merge the two data frames together for plotting in one panel."
      ],
      "metadata": {
        "id": "eBO1iCdblo1w"
      }
    },
    {
      "cell_type": "code",
      "source": [
        "# remove first two columns, since these are redundant.\n",
        "h.neural.est.short <- select(h.neural.est, id:hrate.trigrams)\n",
        "# merge data frames by id\n",
        "h.est.combined <- merge(h.est, h.neural.est.short, by = \"id\")\n",
        "head(h.est.combined)"
      ],
      "metadata": {
        "id": "-Yv4PNCdlwJK"
      },
      "execution_count": null,
      "outputs": []
    },
    {
      "cell_type": "markdown",
      "source": [
        "# Scatterplots\n",
        "Create scatterplots with entropy estimations on the x-axis and y-axis. This gives a visual impression where each text resides in terms of estimated entropies."
      ],
      "metadata": {
        "id": "JvW0Qb_R9__A"
      }
    },
    {
      "cell_type": "markdown",
      "source": [
        "### Unigram Entropies"
      ],
      "metadata": {
        "id": "u7nMYkTZmaml"
      }
    },
    {
      "cell_type": "code",
      "source": [
        "h.unigram.plot <- ggplot(h.est.combined, aes(x = h.unigrams, y = hrate.unigrams, \n",
        "                                        colour = subcorpus)) + \n",
        "  geom_point(alpha = 0.8, size  = 1) +\n",
        "  geom_rug() +\n",
        "  geom_label_repel(aes(label = id), label.size = 0.2, size = 3) + \n",
        "  labs(x = \"Unigram Entropy for Characters (ML Estimate)\", \n",
        "       y = \"Unigram Entropy for Characters (Neural Estimate)\")\n",
        "h.unigram.plot"
      ],
      "metadata": {
        "id": "VYlbfPeo9-MB"
      },
      "execution_count": null,
      "outputs": []
    },
    {
      "cell_type": "markdown",
      "source": [
        "### Trigram Entropies"
      ],
      "metadata": {
        "id": "5MX2YUbimfOr"
      }
    },
    {
      "cell_type": "code",
      "source": [
        "h.trigram.plot <- ggplot(h.est.combined, aes(x = h.trigrams, y = hrate.trigrams, \n",
        "                                        colour = subcorpus)) + \n",
        "  geom_point(alpha = 0.8, size  = 1) +\n",
        "  geom_rug() +\n",
        "  geom_label_repel(aes(label = id), label.size = 0.2, size = 3) + \n",
        "  labs(x = \"Trigram Entropy for Characters (ML Estimate)\", \n",
        "       y = \"Trigram Entropy for Characters (Neural Estimate)\") \n",
        "h.trigram.plot"
      ],
      "metadata": {
        "id": "kI9nqchpmhYc"
      },
      "execution_count": null,
      "outputs": []
    },
    {
      "cell_type": "markdown",
      "source": [
        "# Safe Figures\n",
        "Safe complete figures to file.\n"
      ],
      "metadata": {
        "id": "sq8zg3XL_Gkg"
      }
    },
    {
      "cell_type": "code",
      "source": [
        "# unigrams\n",
        "ggsave(\"/content/UnigramEntropyPlot.pdf\", h.unigram.plot, dpi = 300, \n",
        "       scale = 1, device = cairo_pdf)\n",
        "#trigrams\n",
        "ggsave(\"/content/TrigramEntropyPlot.pdf\", h.trigram.plot, dpi = 300, \n",
        "       scale = 1, device = cairo_pdf)"
      ],
      "metadata": {
        "id": "aGVnDclD_KhR"
      },
      "execution_count": null,
      "outputs": []
    }
  ]
}