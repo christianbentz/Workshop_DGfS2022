{
  "nbformat": 4,
  "nbformat_minor": 0,
  "metadata": {
    "colab": {
      "name": "EntropyEstimation.ipynb",
      "provenance": [],
      "authorship_tag": "ABX9TyPjCW3fQYUWFlXH7HP2d+iI",
      "include_colab_link": true
    },
    "kernelspec": {
      "name": "ir",
      "display_name": "R"
    },
    "language_info": {
      "name": "R"
    }
  },
  "cells": [
    {
      "cell_type": "markdown",
      "metadata": {
        "id": "view-in-github",
        "colab_type": "text"
      },
      "source": [
        "<a href=\"https://colab.research.google.com/github/christianbentz/Workshop_DGfS2022/blob/main/Code/Application1/EstimationML.ipynb\" target=\"_parent\"><img src=\"https://colab.research.google.com/assets/colab-badge.svg\" alt=\"Open In Colab\"/></a>"
      ]
    },
    {
      "cell_type": "markdown",
      "source": [
        "# Entropy Estimation with Maximum Likelihood Method\n",
        "\n",
        "Author: Chris Bentz\n",
        "\n",
        "Date: 18/02/2022"
      ],
      "metadata": {
        "id": "i9JNTF6_0eUo"
      }
    },
    {
      "cell_type": "markdown",
      "source": [
        "# Install Libraries\n",
        "Some packages are already pre-installed on jupyter, but some need to be installed. Run this code to make sure that the packages/libraries needed to run this code are installed."
      ],
      "metadata": {
        "id": "1C0c4iAr0JzP"
      }
    },
    {
      "cell_type": "code",
      "source": [
        "install.packages(\"stringr\")\n",
        "install.packages(\"entropy\")\n",
        "install.packages(\"quanteda\")"
      ],
      "metadata": {
        "id": "XSCPlmn30PxD"
      },
      "execution_count": null,
      "outputs": []
    },
    {
      "cell_type": "markdown",
      "source": [
        "# Load Libraries\n",
        "\n",
        "If the libraries are not installed yet, you need to install them using, for example, the command: install.packages(\"ggplot2\")."
      ],
      "metadata": {
        "id": "FIzBQUXEz769"
      }
    },
    {
      "cell_type": "code",
      "source": [
        "library(stringr)\n",
        "library(entropy)\n",
        "library(quanteda)"
      ],
      "metadata": {
        "id": "Z-Pxl_Dnz8hv",
        "colab": {
          "base_uri": "https://localhost:8080/"
        },
        "outputId": "f9d831b8-952f-4d63-954c-404d36ab6c2d"
      },
      "execution_count": 3,
      "outputs": [
        {
          "output_type": "stream",
          "name": "stderr",
          "text": [
            "Package version: 3.2.0\n",
            "Unicode version: 10.0\n",
            "ICU version: 60.2\n",
            "\n",
            "Parallel computing: 2 of 2 threads used.\n",
            "\n",
            "See https://quanteda.io for tutorials and examples.\n",
            "\n"
          ]
        }
      ]
    },
    {
      "cell_type": "markdown",
      "source": [
        "# List Files\n",
        "Create list with all the file paths of files which are about to be processed further."
      ],
      "metadata": {
        "id": "qUEqwMkt0H6M"
      }
    },
    {
      "cell_type": "code",
      "source": [
        "filelist <- list.files(path = \"/content/processed\", \n",
        "                        recursive = T, full.names = T)\n",
        "head(filelist)\n",
        "length(filelist)"
      ],
      "metadata": {
        "id": "HldyGwmm0xaU"
      },
      "execution_count": null,
      "outputs": []
    },
    {
      "cell_type": "markdown",
      "source": [
        "# Character Entropy Estimation\n",
        "Estimate character entropy by using relative frequencies of characters in the text."
      ],
      "metadata": {
        "id": "Vmz_MfnM2IXP"
      }
    },
    {
      "cell_type": "code",
      "source": [
        "# start time\n",
        "start_time <- Sys.time()\n",
        "\n",
        "# set counter\n",
        "counter = 0\n",
        "\n",
        "# initialize data frame to append results to\n",
        "entropy.df <- data.frame(filename = character(0), subcorpus = character(0), \n",
        "                         id = character(0), h.unigrams = numeric (0),\n",
        "                         h.bigrams = numeric(0), h.trigrams = numeric(0)) \n",
        "\n",
        "for (file in filelist) {\n",
        "  # loading textfile (\"skip\" specifies the number of lines to skip, whereas\n",
        "  # nmax gives the max number of lines to read.)\n",
        "  chars <- scan(file, what = \"char\", quote = \"\", comment.char = \"\", \n",
        "                   encoding = \"UTF-8\", sep = \" \" , skip = 0, nmax = F) \n",
        "  # get filename\n",
        "  filename <- basename(file) \n",
        "  # get subcorpus category\n",
        "  subcorpus <- sub(\"_.*\", \"\", filename)\n",
        "  # get three letter identifier from filename\n",
        "  id <- substr(str_extract(filename, \"_.*_\"), 2, 4) \n",
        "  \n",
        "  # estimate entropy for character unigrams\n",
        "  chars.uni.df <- as.data.frame(table(chars))\n",
        "  h.unigrams <- entropy(chars.uni.df$Freq, method = \"ML\", unit = \"log2\")\n",
        "  \n",
        "  # estimate entropy for character bigrams\n",
        "  chars.bi <- char_ngrams(chars, n = 2, concatenator = \"\")\n",
        "  chars.bi.df <- as.data.frame(table(chars.bi)) \n",
        "  h.bigrams <- entropy(chars.bi.df$Freq, method = \"ML\", unit = \"log2\")\n",
        "  \n",
        "  # estimate entropy for character trigrams\n",
        "  chars.tri <- char_ngrams(chars, n = 3, concatenator = \"\")\n",
        "  chars.tri.df <- as.data.frame(table(chars.tri)) \n",
        "  h.trigrams <- entropy(chars.tri.df$Freq, method = \"ML\", unit = \"log2\")\n",
        "  \n",
        "  # append results to data frame\n",
        "  local.df <- data.frame(filename, subcorpus, id, h.unigrams, \n",
        "                        h.bigrams, h.trigrams)\n",
        "  entropy.df <- rbind(entropy.df, local.df)\n",
        "  # counter\n",
        "  counter <- counter + 1\n",
        "  # print(counter)\n",
        "}\n",
        "\n",
        "# get end time\n",
        "end_time <- Sys.time()\n",
        "end_time - start_time\n",
        "\n",
        "# show final data frame with results\n",
        "print(entropy.df)"
      ],
      "metadata": {
        "id": "GuSswh2s2OIf"
      },
      "execution_count": null,
      "outputs": []
    },
    {
      "cell_type": "markdown",
      "source": [
        "# Write Table to File\n",
        "Write the table as comma separted values (csv) to a file (useful for checking the table in a regular program like excel, and later loading it into another session)."
      ],
      "metadata": {
        "id": "y5X3Nkj23L05"
      }
    },
    {
      "cell_type": "code",
      "source": [
        "write.csv(entropy.df, \"/content/results/entropy_ML.csv\", row.names = F)"
      ],
      "metadata": {
        "id": "Hg-20szs3FQf"
      },
      "execution_count": 9,
      "outputs": []
    }
  ]
}