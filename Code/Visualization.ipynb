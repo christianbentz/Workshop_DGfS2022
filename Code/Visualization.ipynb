{
  "nbformat": 4,
  "nbformat_minor": 0,
  "metadata": {
    "colab": {
      "name": "Visualization.ipynb",
      "provenance": [],
      "authorship_tag": "ABX9TyO1SwuDkXJv4SrkmPG5qWwX",
      "include_colab_link": true
    },
    "kernelspec": {
      "name": "ir",
      "display_name": "R"
    },
    "language_info": {
      "name": "R"
    }
  },
  "cells": [
    {
      "cell_type": "markdown",
      "metadata": {
        "id": "view-in-github",
        "colab_type": "text"
      },
      "source": [
        "<a href=\"https://colab.research.google.com/github/christianbentz/Workshop_DGfS2022/blob/main/Code/Visualization.ipynb\" target=\"_parent\"><img src=\"https://colab.research.google.com/assets/colab-badge.svg\" alt=\"Open In Colab\"/></a>"
      ]
    },
    {
      "cell_type": "markdown",
      "source": [
        "# Entropy Estimation with Relative Frequencies\n",
        "Author: Chris Bentz\n",
        "\n",
        "Date:\n",
        "\n"
      ],
      "metadata": {
        "id": "8e4ugAdV8hiT"
      }
    },
    {
      "cell_type": "markdown",
      "source": [
        "# Install Libraries\n",
        "Some packages are already pre-installed on jupyter, but some need to be installed. Run this code to make sure that the packages/libraries needed to run this code are installed."
      ],
      "metadata": {
        "id": "xM8gWiTk8qb5"
      }
    },
    {
      "cell_type": "code",
      "source": [
        "install.packages(\"ggplot2\")\n",
        "install.packages(\"ggrepel\")"
      ],
      "metadata": {
        "id": "6liRfFfM8y4u"
      },
      "execution_count": null,
      "outputs": []
    },
    {
      "cell_type": "markdown",
      "source": [
        "# Load Libraries\n",
        "\n",
        "If the libraries are not installed yet, you need to install them using, for example, the command: install.packages(\"ggplot2\")."
      ],
      "metadata": {
        "id": "KoEF1OoW8wgY"
      }
    },
    {
      "cell_type": "code",
      "source": [
        "library(ggplot2)\n",
        "library(ggrepel)"
      ],
      "metadata": {
        "id": "_gUdijvx80_y"
      },
      "execution_count": 2,
      "outputs": []
    },
    {
      "cell_type": "markdown",
      "source": [
        "# Load Data\n",
        "Load unigram, bigram and trigram estimations which were generated in EntropyEstimation.ipynb."
      ],
      "metadata": {
        "id": "oAF7bz_T9Mp4"
      }
    },
    {
      "cell_type": "code",
      "source": [
        "h.est <- read.csv(file = \"/content/results/entropyEstimations.csv\")\n",
        "# show first rows of data frame\n",
        "head(h.est)"
      ],
      "metadata": {
        "colab": {
          "base_uri": "https://localhost:8080/",
          "height": 286
        },
        "id": "920OJbO19VH_",
        "outputId": "ba247a1b-8d85-45bc-e66e-0607e64c5c41"
      },
      "execution_count": 5,
      "outputs": [
        {
          "output_type": "display_data",
          "data": {
            "text/plain": [
              "  filename                  subcorpus    id  h.unigrams h.bigrams h.trigrams\n",
              "1 unclassified_voy_0001.txt unclassified voy 3.850406   6.182006  8.103153  \n",
              "2 writing_kal_0001.txt      writing      kal 3.830474   6.565880  8.687897  \n",
              "3 writing_tgl_0001.txt      writing      tgl 3.784131   6.618254  8.816390  \n",
              "4 writing_ibb_0001.txt      writing      ibb 4.051891   7.123654  9.299677  \n",
              "5 writing_bod_0001.txt      writing      bod 4.456135   7.410592  9.402117  \n",
              "6 writing_gaz_0001.txt      writing      gaz 4.230948   7.343073  9.513023  "
            ],
            "text/latex": "A data.frame: 6 × 6\n\\begin{tabular}{r|llllll}\n  & filename & subcorpus & id & h.unigrams & h.bigrams & h.trigrams\\\\\n  & <chr> & <chr> & <chr> & <dbl> & <dbl> & <dbl>\\\\\n\\hline\n\t1 & unclassified\\_voy\\_0001.txt & unclassified & voy & 3.850406 & 6.182006 & 8.103153\\\\\n\t2 & writing\\_kal\\_0001.txt      & writing      & kal & 3.830474 & 6.565880 & 8.687897\\\\\n\t3 & writing\\_tgl\\_0001.txt      & writing      & tgl & 3.784131 & 6.618254 & 8.816390\\\\\n\t4 & writing\\_ibb\\_0001.txt      & writing      & ibb & 4.051891 & 7.123654 & 9.299677\\\\\n\t5 & writing\\_bod\\_0001.txt      & writing      & bod & 4.456135 & 7.410592 & 9.402117\\\\\n\t6 & writing\\_gaz\\_0001.txt      & writing      & gaz & 4.230948 & 7.343073 & 9.513023\\\\\n\\end{tabular}\n",
            "text/markdown": "\nA data.frame: 6 × 6\n\n| <!--/--> | filename &lt;chr&gt; | subcorpus &lt;chr&gt; | id &lt;chr&gt; | h.unigrams &lt;dbl&gt; | h.bigrams &lt;dbl&gt; | h.trigrams &lt;dbl&gt; |\n|---|---|---|---|---|---|---|\n| 1 | unclassified_voy_0001.txt | unclassified | voy | 3.850406 | 6.182006 | 8.103153 |\n| 2 | writing_kal_0001.txt      | writing      | kal | 3.830474 | 6.565880 | 8.687897 |\n| 3 | writing_tgl_0001.txt      | writing      | tgl | 3.784131 | 6.618254 | 8.816390 |\n| 4 | writing_ibb_0001.txt      | writing      | ibb | 4.051891 | 7.123654 | 9.299677 |\n| 5 | writing_bod_0001.txt      | writing      | bod | 4.456135 | 7.410592 | 9.402117 |\n| 6 | writing_gaz_0001.txt      | writing      | gaz | 4.230948 | 7.343073 | 9.513023 |\n\n",
            "text/html": [
              "<table class=\"dataframe\">\n",
              "<caption>A data.frame: 6 × 6</caption>\n",
              "<thead>\n",
              "\t<tr><th></th><th scope=col>filename</th><th scope=col>subcorpus</th><th scope=col>id</th><th scope=col>h.unigrams</th><th scope=col>h.bigrams</th><th scope=col>h.trigrams</th></tr>\n",
              "\t<tr><th></th><th scope=col>&lt;chr&gt;</th><th scope=col>&lt;chr&gt;</th><th scope=col>&lt;chr&gt;</th><th scope=col>&lt;dbl&gt;</th><th scope=col>&lt;dbl&gt;</th><th scope=col>&lt;dbl&gt;</th></tr>\n",
              "</thead>\n",
              "<tbody>\n",
              "\t<tr><th scope=row>1</th><td>unclassified_voy_0001.txt</td><td>unclassified</td><td>voy</td><td>3.850406</td><td>6.182006</td><td>8.103153</td></tr>\n",
              "\t<tr><th scope=row>2</th><td>writing_kal_0001.txt     </td><td>writing     </td><td>kal</td><td>3.830474</td><td>6.565880</td><td>8.687897</td></tr>\n",
              "\t<tr><th scope=row>3</th><td>writing_tgl_0001.txt     </td><td>writing     </td><td>tgl</td><td>3.784131</td><td>6.618254</td><td>8.816390</td></tr>\n",
              "\t<tr><th scope=row>4</th><td>writing_ibb_0001.txt     </td><td>writing     </td><td>ibb</td><td>4.051891</td><td>7.123654</td><td>9.299677</td></tr>\n",
              "\t<tr><th scope=row>5</th><td>writing_bod_0001.txt     </td><td>writing     </td><td>bod</td><td>4.456135</td><td>7.410592</td><td>9.402117</td></tr>\n",
              "\t<tr><th scope=row>6</th><td>writing_gaz_0001.txt     </td><td>writing     </td><td>gaz</td><td>4.230948</td><td>7.343073</td><td>9.513023</td></tr>\n",
              "</tbody>\n",
              "</table>\n"
            ]
          },
          "metadata": {}
        }
      ]
    },
    {
      "cell_type": "markdown",
      "source": [
        "# Scatterplots\n",
        "Create a scatterplot with entropy estimations on the x-axis and y-axis. This gives a visual impression where each text resides in terms of estimated entropies."
      ],
      "metadata": {
        "id": "JvW0Qb_R9__A"
      }
    },
    {
      "cell_type": "code",
      "source": [
        "h.plot <- ggplot(h.est, aes(x = h.unigrams, y = h.bigrams, \n",
        "                                        colour = subcorpus)) + \n",
        "  geom_point(alpha = 0.8, size  = 1) +\n",
        "  geom_rug() +\n",
        "  geom_label_repel(aes(label = id), label.size = 0.2, size = 3) + \n",
        "  labs(x = \"Unigram Entropy for Characters\", \n",
        "       y = \"Bigram Entropy for Characters\") \n",
        "h.plot"
      ],
      "metadata": {
        "id": "VYlbfPeo9-MB"
      },
      "execution_count": null,
      "outputs": []
    },
    {
      "cell_type": "markdown",
      "source": [
        "# Safe Figure to File"
      ],
      "metadata": {
        "id": "sq8zg3XL_Gkg"
      }
    },
    {
      "cell_type": "code",
      "source": [
        "ggsave(\"/content/entropyPlot.pdf\", h.plot, dpi = 300, \n",
        "       scale = 1, device = cairo_pdf)"
      ],
      "metadata": {
        "id": "aGVnDclD_KhR"
      },
      "execution_count": null,
      "outputs": []
    }
  ]
}