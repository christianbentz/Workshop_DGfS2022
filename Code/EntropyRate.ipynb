{
  "nbformat": 4,
  "nbformat_minor": 0,
  "metadata": {
    "colab": {
      "name": "EntropyRate.ipynb",
      "provenance": []
    },
    "kernelspec": {
      "name": "python3",
      "display_name": "Python 3"
    },
    "language_info": {
      "name": "python"
    }
  },
  "cells": [
    {
      "cell_type": "markdown",
      "source": [
        "The libraries we are going to use:"
      ],
      "metadata": {
        "id": "sOsfmf6kCfo7"
      }
    },
    {
      "cell_type": "code",
      "execution_count": 1,
      "metadata": {
        "id": "FuPM5zVMCIDG"
      },
      "outputs": [],
      "source": [
        "import torch\n",
        "import torch.nn as nn\n",
        "import numpy as np\n",
        "from collections import defaultdict, Counter\n",
        "from itertools import chain"
      ]
    },
    {
      "cell_type": "markdown",
      "source": [
        "We define two functions that we are going to need later:"
      ],
      "metadata": {
        "id": "LNlVYn7rCftg"
      }
    },
    {
      "cell_type": "code",
      "source": [
        "#Functions to convert input to index numbers\n",
        "\n",
        "def text2number(corpus):\n",
        "  index=0\n",
        "  indexed_line=[]\n",
        "  vocabulary={}\n",
        "  for line in corpus:\n",
        "    aux=[]\n",
        "    for w in line.split():\n",
        "      if not(w in vocabulary):\n",
        "        vocabulary[w]=index\n",
        "        #print(w, index)\n",
        "        index=index+1\n",
        "      aux.append(vocabulary[w])\n",
        "        \n",
        "    indexed_line.append(aux)\n",
        "\n",
        "  return (vocabulary, indexed_line)\n",
        "        "
      ],
      "metadata": {
        "id": "MH06ZNsqCwoc"
      },
      "execution_count": 13,
      "outputs": []
    },
    {
      "cell_type": "code",
      "source": [
        "corpus = ['el perro come un hueso', 'un muchacho jugaba', 'el muchacho saltaba la cuerda',\n",
        "          'un perro come croquetas']\n",
        "          \n",
        "\n",
        "cads_idx2 = text2number(corpus)\n",
        "\n",
        "print(idx)\n",
        "\n",
        "print(cads_idx2)"
      ],
      "metadata": {
        "colab": {
          "base_uri": "https://localhost:8080/"
        },
        "id": "yBv_CV85PBfB",
        "outputId": "8be73ca9-2f80-4c97-fc11-a4a3fdd58473"
      },
      "execution_count": 14,
      "outputs": [
        {
          "output_type": "stream",
          "name": "stdout",
          "text": [
            "defaultdict(<function vocab.<locals>.<lambda> at 0x7f256bc75a70>, {'el': 0, 'perro': 1, 'come': 2, 'un': 3, 'hueso': 4, 'muchacho': 5, 'jugaba': 6, 'saltaba': 7, 'la': 8, 'cuerda': 9, 'croquetas': 10})\n",
            "[[0, 1, 2, 3, 4], [3, 5, 6], [0, 5, 7, 8, 9], [3, 1, 2, 10]]\n",
            "({'el': 0, 'perro': 1, 'come': 2, 'un': 3, 'hueso': 4, 'muchacho': 5, 'jugaba': 6, 'saltaba': 7, 'la': 8, 'cuerda': 9, 'croquetas': 10}, [[0, 1, 2, 3, 4], [3, 5, 6], [0, 5, 7, 8, 9], [3, 1, 2, 10]])\n"
          ]
        }
      ]
    },
    {
      "cell_type": "markdown",
      "source": [
        "Convert input to trigrams:"
      ],
      "metadata": {
        "id": "cD5RNffzp8B6"
      }
    },
    {
      "cell_type": "code",
      "source": [
        "#Using nltk for ngrams\n",
        "\n",
        "from nltk import ngrams\n",
        "c=\"#cats$\"\n",
        "\n",
        "list(ngrams(c, 3))"
      ],
      "metadata": {
        "colab": {
          "base_uri": "https://localhost:8080/"
        },
        "id": "a_Ub87AO_4WJ",
        "outputId": "f2999aa2-1041-4aba-c5a3-23e10986b6ba"
      },
      "execution_count": 26,
      "outputs": [
        {
          "output_type": "execute_result",
          "data": {
            "text/plain": [
              "[('#', 'c', 'a'), ('c', 'a', 't'), ('a', 't', 's'), ('t', 's', '$')]"
            ]
          },
          "metadata": {},
          "execution_count": 26
        }
      ]
    }
  ]
}